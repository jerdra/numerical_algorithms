{
 "cells": [
  {
   "cell_type": "code",
   "execution_count": 2,
   "metadata": {},
   "outputs": [],
   "source": [
    "import numpy as np\n",
    "import matplotlib.pyplot as plt"
   ]
  },
  {
   "cell_type": "markdown",
   "metadata": {},
   "source": [
    "# The N-Dimensional Rotational Matrix Generation Algorithm\n",
    "## Source: http://article.sapub.org/10.5923.j.ajcam.20170702.04.html\n",
    "### Overview\n",
    "\n",
    "The idea behind (a simplified) version of this algorithm is that we can use a composite of multiple planar rotations in order to align some vector $p \\in \\mathbb{R}^{d+1}$ to an arbitrary axis $x_j \\in \\mathbb{R}^{d+1}$ when both points lie on a sphere $S^d$. "
   ]
  },
  {
   "cell_type": "code",
   "execution_count": 3,
   "metadata": {},
   "outputs": [],
   "source": [
    "#Given two sample vectors\n",
    "x = np.array([2,26,7,2,12,65,7,32,3,5], dtype=np.float64)\n",
    "z = np.array([0,0,0,0,0,0,0,0,0,1], dtype=np.float64)"
   ]
  },
  {
   "cell_type": "markdown",
   "metadata": {},
   "source": [
    "A **Givens Matrix** is of form:\n",
    "\n",
    "$$\\left[\n",
    "\\begin{matrix}\n",
    "1 & 0 & \\dots & 0 & 0 & \\dots & 0 & 0 \\\\\n",
    "0 & 1 & \\dots & 0 & 0 & \\dots & 0 & 0 \\\\ \n",
    "\\vdots & \\vdots & \\ddots & \\vdots & \\vdots & \\ddots & \\vdots & \\vdots \\\\\n",
    "0 & 0 & \\dots & C_k & -S_k & \\dots & 0 & 0 \\\\\n",
    "0 & 0 & \\dots & S_k & C_k & \\dots & 0 & 0 \\\\\n",
    "\\vdots & \\vdots & \\ddots & \\vdots & \\vdots & \\ddots & \\vdots & \\vdots \\\\\n",
    "0 & 0 & \\ddots & 0 & 0 & \\dots & 1 & 0 \\\\\n",
    "0 & 0 & \\dots & 0 & 0 & \\dots & 0 & 1 \\\\\n",
    "\\end{matrix}\n",
    "\\right]$$\n",
    "\n",
    "Where $\\{k,k+1\\}$ are consecutive dimensions. The result is a planar rotation of the subspace spanned by $x_k,x_{k+1}$. The idea behind this is that any vector $p$ can be rotated to an axis $x_j$ via a series of rotations sequentially such that every component $x_i, i \\ne j$ is set to $0$.\n",
    "\n",
    "Each component-wise rotation is denoted by a **Givens Matrix** of form: \n",
    "\n",
    "$$G(k,k+1,\\theta_k)$$\n",
    "\n",
    "And the composition of all **Givens matrices**, returns the rotation matrix $R$ which transform a vector $p$ to an axis $x_j$:\n",
    "\n",
    "$$R_{p \\to x_j} = \\prod_{N-1}^1 G(k,k+1,\\theta_k)$$"
   ]
  },
  {
   "cell_type": "code",
   "execution_count": 5,
   "metadata": {},
   "outputs": [],
   "source": [
    "def compute_planar_rotation(a):\n",
    "    '''\n",
    "    Define <a> to be a vector in 2 dimensional space. \n",
    "    Find the rotation matrix that aligns a to the axis z = [r,0] \n",
    "    Where r is the magnitude of <a>\n",
    "    \n",
    "    This method is the same as in: \n",
    "    N-dimensional Rotation Matrix Generation Algorithm\n",
    "    (Zhelezov, O.I 2017)\n",
    "    '''\n",
    "    \n",
    "    hyp = np.hypot(a[0],a[1])\n",
    "    if np.greater(hyp**2,0):\n",
    "        s_k = -a[1]/hyp\n",
    "        c_k = a[0]/hyp\n",
    "    else:\n",
    "        s_k = 0\n",
    "        c_k = 1\n",
    "      \n",
    "    return np.array([ [c_k, -s_k] , [s_k, c_k] ])"
   ]
  },
  {
   "cell_type": "code",
   "execution_count": 6,
   "metadata": {},
   "outputs": [],
   "source": [
    "#Original Algorithm\n",
    "N = x.shape[0] - 1\n",
    "G = np.eye(N+1,N+1,dtype=np.float64)\n",
    "\n",
    "#Initialize transformed version of x\n",
    "x_bar = x\n",
    "for k in np.arange(1,N+1):\n",
    "    \n",
    "    #Make tmp Givens: G(N-k, N-k+1,0_{N-k})\n",
    "    G_k = np.eye(N+1,N+1,dtype=np.float64)\n",
    "    \n",
    "    #Compute subspace rotation to k+1 axis\n",
    "    G_k[N-k:N-k+2,N-k:N-k+2] = compute_planar_rotation(x_bar[N-k:N-k+2])\n",
    "    \n",
    "    #Update x_bar\n",
    "    x_bar = G_k @ x_bar\n",
    "    G = G_k @ G"
   ]
  },
  {
   "cell_type": "code",
   "execution_count": 9,
   "metadata": {},
   "outputs": [],
   "source": [
    "def compute_reverse_givens(a):\n",
    "    '''\n",
    "    Define <a> to be a vector in 2 dimensional space. \n",
    "    Find the rotation matrix that aligns a to the axis z = [0,r] \n",
    "    Where r is the magnitude of <a>\n",
    "    \n",
    "    This method is a slight variation (x_j = x_N instead of x_j = x_1) of\n",
    "    N-dimensional Rotation Matrix Generation Algorithm\n",
    "    (Zhelezov, O.I 2017)\n",
    "    '''\n",
    "    \n",
    "    hyp = np.hypot(a[0],a[1])\n",
    "    if np.greater(hyp**2,0):\n",
    "        s_k = a[0]/hyp\n",
    "        c_k = a[1]/hyp\n",
    "    else:\n",
    "        s_k = 1\n",
    "        c_k = 0\n",
    "    return np.array([ [c_k, -s_k] , [s_k, c_k] ])"
   ]
  },
  {
   "cell_type": "code",
   "execution_count": 10,
   "metadata": {},
   "outputs": [],
   "source": [
    "#Reverse algorithm\n",
    "N = x.shape[0] - 1\n",
    "G = np.eye(N+1,N+1,dtype=np.float64)\n",
    "x_bar = x\n",
    "for k in np.arange(0,N):\n",
    "    \n",
    "    G_k = np.eye(N+1,N+1,dtype=np.float64)\n",
    "    G_k[k:k+2,k:k+2] = compute_reverse_givens(x_bar[k:k+2])\n",
    "    \n",
    "    x_bar = G_k @ x_bar\n",
    "    G = G_k @ G"
   ]
  },
  {
   "cell_type": "markdown",
   "metadata": {},
   "source": [
    "To be moved to spherical averaging notebook"
   ]
  },
  {
   "cell_type": "code",
   "execution_count": 112,
   "metadata": {},
   "outputs": [],
   "source": [
    "def inverse_exponential(q,p):\n",
    "    '''\n",
    "    Let <q> and <p> be two unit vectors.\n",
    "    Where:\n",
    "        <q> should be aligned to the x_N axis\n",
    "        <p> is another vector that we want to map to the tangential hyperplane\n",
    "    \n",
    "    The inverse exponential map takes a point <p> and finds the angular rotation component\n",
    "    between <q> and the x_i component of <p>. This returns the x_i' component of l(p) in the\n",
    "    tangential hyperplane. \n",
    "    '''\n",
    "    \n",
    "    #Make output vector (we lose the d+1 component)\n",
    "    l_p = np.zeros( p.shape[0] - 1 )\n",
    "    \n",
    "    #For each angular component on the sphere, find the corresponding euclidean component  \n",
    "    for i in np.arange(0,l_p.shape[0]):\n",
    "        \n",
    "        #Compute the cosine angle in radians\n",
    "        r = np.arccos(np.dot(q,p))\n",
    "        \n",
    "        #Project into the tangent hyperplane to get the x_i' component\n",
    "        l_p[i] = p[i] * r/np.sin(r)\n",
    "    \n",
    "    return l_p\n",
    "    "
   ]
  },
  {
   "cell_type": "code",
   "execution_count": null,
   "metadata": {},
   "outputs": [],
   "source": [
    "def exponential_map(q,p):\n",
    "    '''\n",
    "    Let <q> and <p> be two vectors lying in a hyperplane. \n",
    "    Where:\n",
    "        <q> is a vector in euclidean space lying on an n-sphere\n",
    "        <p> is some vector lying on a hyperplane that is tangential to the n-sphere at <q>\n",
    "    \n",
    "    The exponential map takes a point <p> on the hyperplane and computes a point on the n-sphere\n",
    "    that preserves euclidean distances in the form of angular distances between <q> and <p>. \n",
    "    '''\n",
    "    \n",
    "    #Make output vector (has n dimensions)\n",
    "    exp_p = np.zeros(q.shape[0])\n",
    "    \n",
    "    #Compute the total distance of p from q in the tangential hyperplane\n",
    "    r = np.linalg.norm(p)\n",
    "    \n",
    "    #Calculate the multiplier sin(r)/r. \n",
    "    #This if condition is mentioned in the spherical means paper pg. 11 at the bottom\n",
    "    if np.greater(r,0):\n",
    "        m = np.sin(r)/r\n",
    "    else:\n",
    "        m = 1\n",
    "    \n",
    "    for i in np.arange(0,p.shape[0]):\n",
    "        exp_p[i] = p[i] * m\n",
    "        \n",
    "    #Compute the last component\n",
    "    exp_p[-1] = np.cos(r)\n",
    "    \n",
    "    return exp_p"
   ]
  }
 ],
 "metadata": {
  "kernelspec": {
   "display_name": "Python 3",
   "language": "python",
   "name": "python3"
  },
  "language_info": {
   "codemirror_mode": {
    "name": "ipython",
    "version": 3
   },
   "file_extension": ".py",
   "mimetype": "text/x-python",
   "name": "python",
   "nbconvert_exporter": "python",
   "pygments_lexer": "ipython3",
   "version": "3.6.3"
  }
 },
 "nbformat": 4,
 "nbformat_minor": 2
}
